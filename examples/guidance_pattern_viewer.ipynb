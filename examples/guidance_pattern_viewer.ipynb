{
 "cells": [
  {
   "cell_type": "code",
   "execution_count": 1,
   "id": "initial_id",
   "metadata": {
    "collapsed": true,
    "ExecuteTime": {
     "end_time": "2024-10-11T10:49:28.369663Z",
     "start_time": "2024-10-11T10:49:26.617854Z"
    }
   },
   "outputs": [
    {
     "data": {
      "text/plain": "<folium.folium.Map at 0x7fec239219f0>",
      "text/html": "<div style=\"width:100%;\"><div style=\"position:relative;width:100%;height:0;padding-bottom:60%;\"><span style=\"color:#565656\">Make this Notebook Trusted to load map: File -> Trust Notebook</span><iframe srcdoc=\"&lt;!DOCTYPE html&gt;\n&lt;html&gt;\n&lt;head&gt;\n    \n    &lt;meta http-equiv=&quot;content-type&quot; content=&quot;text/html; charset=UTF-8&quot; /&gt;\n    \n        &lt;script&gt;\n            L_NO_TOUCH = false;\n            L_DISABLE_3D = false;\n        &lt;/script&gt;\n    \n    &lt;style&gt;html, body {width: 100%;height: 100%;margin: 0;padding: 0;}&lt;/style&gt;\n    &lt;style&gt;#map {position:absolute;top:0;bottom:0;right:0;left:0;}&lt;/style&gt;\n    &lt;script src=&quot;https://cdn.jsdelivr.net/npm/leaflet@1.9.3/dist/leaflet.js&quot;&gt;&lt;/script&gt;\n    &lt;script src=&quot;https://code.jquery.com/jquery-3.7.1.min.js&quot;&gt;&lt;/script&gt;\n    &lt;script src=&quot;https://cdn.jsdelivr.net/npm/bootstrap@5.2.2/dist/js/bootstrap.bundle.min.js&quot;&gt;&lt;/script&gt;\n    &lt;script src=&quot;https://cdnjs.cloudflare.com/ajax/libs/Leaflet.awesome-markers/2.0.2/leaflet.awesome-markers.js&quot;&gt;&lt;/script&gt;\n    &lt;link rel=&quot;stylesheet&quot; href=&quot;https://cdn.jsdelivr.net/npm/leaflet@1.9.3/dist/leaflet.css&quot;/&gt;\n    &lt;link rel=&quot;stylesheet&quot; href=&quot;https://cdn.jsdelivr.net/npm/bootstrap@5.2.2/dist/css/bootstrap.min.css&quot;/&gt;\n    &lt;link rel=&quot;stylesheet&quot; href=&quot;https://netdna.bootstrapcdn.com/bootstrap/3.0.0/css/bootstrap-glyphicons.css&quot;/&gt;\n    &lt;link rel=&quot;stylesheet&quot; href=&quot;https://cdn.jsdelivr.net/npm/@fortawesome/fontawesome-free@6.2.0/css/all.min.css&quot;/&gt;\n    &lt;link rel=&quot;stylesheet&quot; href=&quot;https://cdnjs.cloudflare.com/ajax/libs/Leaflet.awesome-markers/2.0.2/leaflet.awesome-markers.css&quot;/&gt;\n    &lt;link rel=&quot;stylesheet&quot; href=&quot;https://cdn.jsdelivr.net/gh/python-visualization/folium/folium/templates/leaflet.awesome.rotate.min.css&quot;/&gt;\n    \n            &lt;meta name=&quot;viewport&quot; content=&quot;width=device-width,\n                initial-scale=1.0, maximum-scale=1.0, user-scalable=no&quot; /&gt;\n            &lt;style&gt;\n                #map_35398eefe54e01047ae5433190e334db {\n                    position: relative;\n                    width: 100.0%;\n                    height: 100.0%;\n                    left: 0.0%;\n                    top: 0.0%;\n                }\n                .leaflet-container { font-size: 1rem; }\n            &lt;/style&gt;\n        \n    \n                    &lt;style&gt;\n                        .foliumtooltip {\n                            \n                        }\n                       .foliumtooltip table{\n                            margin: auto;\n                        }\n                        .foliumtooltip tr{\n                            text-align: left;\n                        }\n                        .foliumtooltip th{\n                            padding: 2px; padding-right: 8px;\n                        }\n                    &lt;/style&gt;\n            \n&lt;/head&gt;\n&lt;body&gt;\n    \n    \n            &lt;div class=&quot;folium-map&quot; id=&quot;map_35398eefe54e01047ae5433190e334db&quot; &gt;&lt;/div&gt;\n        \n&lt;/body&gt;\n&lt;script&gt;\n    \n    \n            var map_35398eefe54e01047ae5433190e334db = L.map(\n                &quot;map_35398eefe54e01047ae5433190e334db&quot;,\n                {\n                    center: [48.12668225045, 15.145812893150001],\n                    crs: L.CRS.EPSG3857,\n                    zoom: 10,\n                    zoomControl: true,\n                    preferCanvas: false,\n                }\n            );\n            L.control.scale().addTo(map_35398eefe54e01047ae5433190e334db);\n\n            \n\n        \n    \n            var tile_layer_80bde7d8dad52d05a4587dd6ca143d81 = L.tileLayer(\n                &quot;https://tile.openstreetmap.org/{z}/{x}/{y}.png&quot;,\n                {&quot;attribution&quot;: &quot;\\u0026copy; \\u003ca href=\\&quot;https://www.openstreetmap.org/copyright\\&quot;\\u003eOpenStreetMap\\u003c/a\\u003e contributors&quot;, &quot;detectRetina&quot;: false, &quot;maxNativeZoom&quot;: 19, &quot;maxZoom&quot;: 19, &quot;minZoom&quot;: 0, &quot;noWrap&quot;: false, &quot;opacity&quot;: 1, &quot;subdomains&quot;: &quot;abc&quot;, &quot;tms&quot;: false}\n            );\n        \n    \n            tile_layer_80bde7d8dad52d05a4587dd6ca143d81.addTo(map_35398eefe54e01047ae5433190e334db);\n        \n    \n            map_35398eefe54e01047ae5433190e334db.fitBounds(\n                [[48.126009503, 15.1448151216], [48.1273549979, 15.1468106647]],\n                {}\n            );\n        \n    \n        function geo_json_97a09fa57fcf9c309eb62558933d036b_styler(feature) {\n            switch(feature.id) {\n                default:\n                    return {&quot;fillOpacity&quot;: 0.5, &quot;weight&quot;: 2};\n            }\n        }\n        function geo_json_97a09fa57fcf9c309eb62558933d036b_highlighter(feature) {\n            switch(feature.id) {\n                default:\n                    return {&quot;fillOpacity&quot;: 0.75};\n            }\n        }\n        function geo_json_97a09fa57fcf9c309eb62558933d036b_pointToLayer(feature, latlng) {\n            var opts = {&quot;bubblingMouseEvents&quot;: true, &quot;color&quot;: &quot;#3388ff&quot;, &quot;dashArray&quot;: null, &quot;dashOffset&quot;: null, &quot;fill&quot;: true, &quot;fillColor&quot;: &quot;#3388ff&quot;, &quot;fillOpacity&quot;: 0.2, &quot;fillRule&quot;: &quot;evenodd&quot;, &quot;lineCap&quot;: &quot;round&quot;, &quot;lineJoin&quot;: &quot;round&quot;, &quot;opacity&quot;: 1.0, &quot;radius&quot;: 2, &quot;stroke&quot;: true, &quot;weight&quot;: 3};\n            \n            let style = geo_json_97a09fa57fcf9c309eb62558933d036b_styler(feature)\n            Object.assign(opts, style)\n            \n            return new L.CircleMarker(latlng, opts)\n        }\n\n        function geo_json_97a09fa57fcf9c309eb62558933d036b_onEachFeature(feature, layer) {\n            layer.on({\n                mouseout: function(e) {\n                    if(typeof e.target.setStyle === &quot;function&quot;){\n                            geo_json_97a09fa57fcf9c309eb62558933d036b.resetStyle(e.target);\n                    }\n                },\n                mouseover: function(e) {\n                    if(typeof e.target.setStyle === &quot;function&quot;){\n                        const highlightStyle = geo_json_97a09fa57fcf9c309eb62558933d036b_highlighter(e.target.feature)\n                        e.target.setStyle(highlightStyle);\n                    }\n                },\n            });\n        };\n        var geo_json_97a09fa57fcf9c309eb62558933d036b = L.geoJson(null, {\n                onEachFeature: geo_json_97a09fa57fcf9c309eb62558933d036b_onEachFeature,\n            \n                style: geo_json_97a09fa57fcf9c309eb62558933d036b_styler,\n                pointToLayer: geo_json_97a09fa57fcf9c309eb62558933d036b_pointToLayer,\n        });\n\n        function geo_json_97a09fa57fcf9c309eb62558933d036b_add (data) {\n            geo_json_97a09fa57fcf9c309eb62558933d036b\n                .addData(data);\n        }\n            geo_json_97a09fa57fcf9c309eb62558933d036b_add({&quot;bbox&quot;: [15.1448151216, 48.126009503, 15.1468106647, 48.1273549979], &quot;features&quot;: [{&quot;bbox&quot;: [15.1454126265, 48.1265068992, 15.1468106647, 48.1271653445], &quot;geometry&quot;: {&quot;coordinates&quot;: [[15.1454126265, 48.1265068992], [15.1455122888, 48.1265410283], [15.1456119511, 48.1265751573], [15.1457116134, 48.1266092864], [15.1458112757, 48.1266434155], [15.145910938, 48.1266775446], [15.1460106003, 48.1267116737], [15.1460525717, 48.1267260467], [15.1461157509, 48.126743966], [15.1461777413, 48.1267616371], [15.1462396112, 48.1267821678], [15.1462939508, 48.1268102711], [15.1463419608, 48.1268432624], [15.1464200781, 48.1268969427], [15.1464981954, 48.1269506231], [15.1465763127, 48.1270043035], [15.1466544301, 48.1270579838], [15.1467325474, 48.1271116642], [15.1468106647, 48.1271653445]], &quot;type&quot;: &quot;LineString&quot;}, &quot;id&quot;: &quot;0&quot;, &quot;properties&quot;: {}, &quot;type&quot;: &quot;Feature&quot;}, {&quot;bbox&quot;: [15.1466444594, 48.126009503, 15.1467403435, 48.1260325651], &quot;geometry&quot;: {&quot;coordinates&quot;: [[15.1466444594, 48.126009503], [15.1467403435, 48.1260325651]], &quot;type&quot;: &quot;LineString&quot;}, &quot;id&quot;: &quot;1&quot;, &quot;properties&quot;: {}, &quot;type&quot;: &quot;Feature&quot;}, {&quot;bbox&quot;: [15.1448151216, 48.1265555152, 15.1467094202, 48.1272120049], &quot;geometry&quot;: {&quot;coordinates&quot;: [[15.1467094202, 48.1265555152], [15.1466826513, 48.1265758525], [15.1466408757, 48.1266075911], [15.1465991, 48.1266393297], [15.1465573244, 48.1266710682], [15.1465155487, 48.1267028068], [15.1464737731, 48.1267345454], [15.1464319974, 48.126766284], [15.1463902217, 48.1267980226], [15.1463484461, 48.1268297611], [15.1463066704, 48.1268614997], [15.1462648948, 48.1268932383], [15.1462231191, 48.1269249769], [15.146184183, 48.1269545581], [15.1461254388, 48.1269725207], [15.1461245732, 48.1269728023], [15.1460644342, 48.1269935692], [15.1460018687, 48.1270138685], [15.145939147, 48.1270322647], [15.1458744011, 48.1270493576], [15.1458743759, 48.1270493643], [15.1458115943, 48.127066004], [15.1457487747, 48.1270826367], [15.1457479865, 48.1270828585], [15.1456872491, 48.1271009706], [15.1456265117, 48.1271190827], [15.1455657742, 48.1271371948], [15.1455050368, 48.127155307], [15.1454442994, 48.1271734191], [15.1453835619, 48.1271915312], [15.1453260002, 48.1272086963], [15.1452622165, 48.1272120049], [15.1451981285, 48.1272067548], [15.1451328922, 48.127196543], [15.1450720849, 48.1271798445], [15.1450139515, 48.1271568418], [15.1449572357, 48.1271323608], [15.1449569553, 48.127132242], [15.1448992955, 48.1271082444], [15.1448990592, 48.1271081475], [15.1448408097, 48.1270846418], [15.1448151216, 48.1270732295], [15.1448407494, 48.1270662254], [15.1449016302, 48.1270495866], [15.144962511, 48.1270329478], [15.1450233918, 48.127016309], [15.1450842726, 48.1269996702], [15.1451451534, 48.1269830314], [15.1452060342, 48.1269663926], [15.145266915, 48.1269497538], [15.1453277959, 48.126933115], [15.1453886767, 48.1269164761], [15.1454495575, 48.1268998373], [15.1455104383, 48.1268831985], [15.1455713191, 48.1268665597], [15.1456321999, 48.1268499209], [15.1456930807, 48.1268332821], [15.1457539615, 48.1268166433], [15.1458148423, 48.1268000045], [15.1458757231, 48.1267833657], [15.1459366039, 48.1267667269], [15.1459974847, 48.1267500881], [15.1460583655, 48.1267334493], [15.1461192464, 48.1267168105], [15.1461801272, 48.1267001717], [15.146241008, 48.1266835329], [15.1463018888, 48.1266668941], [15.1463627696, 48.1266502552], [15.1464236504, 48.1266336164], [15.1464845312, 48.1266169776], [15.146545412, 48.1266003388], [15.1466062928, 48.1265837], [15.1466671736, 48.1265670612], [15.1467094202, 48.1265555152]], &quot;type&quot;: &quot;LineString&quot;}, &quot;id&quot;: &quot;2&quot;, &quot;properties&quot;: {}, &quot;type&quot;: &quot;Feature&quot;}, {&quot;bbox&quot;: [15.145092681, 48.1268944876, 15.1462709045, 48.1273549979], &quot;geometry&quot;: {&quot;coordinates&quot;: [[15.1450941976, 48.1273549979], [15.145092681, 48.1273267368], [15.1451134838, 48.1272744632], [15.1451745991, 48.1272378447], [15.1452521562, 48.1272181388], [15.1453297776, 48.1272034518], [15.145409054, 48.127188181], [15.1454837953, 48.127167368], [15.1455537689, 48.1271377196], [15.1456144715, 48.1271002676], [15.1456852174, 48.127074066], [15.1457650387, 48.1270618225], [15.1458448033, 48.1270531171], [15.1459234707, 48.1270349189], [15.1459980844, 48.127012365], [15.1460730081, 48.1269887984], [15.1461442818, 48.1269632438], [15.1462061625, 48.1269285859], [15.1462709045, 48.1268944876]], &quot;type&quot;: &quot;LineString&quot;}, &quot;id&quot;: &quot;3&quot;, &quot;properties&quot;: {}, &quot;type&quot;: &quot;Feature&quot;}, {&quot;bbox&quot;: [15.1466444594, 48.126009503, 15.1467403435, 48.1260325651], &quot;geometry&quot;: {&quot;coordinates&quot;: [[15.1466444594, 48.126009503], [15.1467403435, 48.1260325651]], &quot;type&quot;: &quot;LineString&quot;}, &quot;id&quot;: &quot;4&quot;, &quot;properties&quot;: {}, &quot;type&quot;: &quot;Feature&quot;}], &quot;type&quot;: &quot;FeatureCollection&quot;});\n\n        \n    \n    geo_json_97a09fa57fcf9c309eb62558933d036b.bindTooltip(\n    function(layer){\n    let div = L.DomUtil.create(&#x27;div&#x27;);\n    \n    return div\n    }\n    ,{&quot;className&quot;: &quot;foliumtooltip&quot;, &quot;sticky&quot;: true});\n                     \n    \n            geo_json_97a09fa57fcf9c309eb62558933d036b.addTo(map_35398eefe54e01047ae5433190e334db);\n        \n&lt;/script&gt;\n&lt;/html&gt;\" style=\"position:absolute;width:100%;height:100%;left:0;top:0;border:none !important;\" allowfullscreen webkitallowfullscreen mozallowfullscreen></iframe></div></div>"
     },
     "execution_count": 1,
     "metadata": {},
     "output_type": "execute_result"
    }
   ],
   "source": [
    "from test.resources.test_resources import TEST_RES_DIR\n",
    "from isoxml.util.isoxml_io import isoxml_from_xml_file\n",
    "from isoxml.converter.shapely_geom import ShapelyConverterV4\n",
    "import geopandas as gpd\n",
    "\n",
    "shp_converter = ShapelyConverterV4()\n",
    "\n",
    "task_data, _ = isoxml_from_xml_file(TEST_RES_DIR / \"isoxml/v4/cnh_export/TASKDATA 1.XML\")\n",
    "shp_gp_geoms = []\n",
    "\n",
    "for partfield in task_data.partfields:\n",
    "    for gg in partfield.guidance_groups:\n",
    "        for gp in gg.guidance_patterns:\n",
    "            for lsg in gp.line_strings:\n",
    "                if len(lsg.points) > 1:\n",
    "                    shp_gp_geoms.append(shp_converter.to_shapely_geom(lsg))\n",
    "\n",
    "gs_gp_geoms = gpd.GeoSeries(data=shp_gp_geoms, crs='EPSG:4326')\n",
    "m = gs_gp_geoms.explore()\n",
    "m\n"
   ]
  },
  {
   "cell_type": "code",
   "outputs": [],
   "source": [],
   "metadata": {
    "collapsed": false
   },
   "id": "d8b1e09bdb44e75f"
  }
 ],
 "metadata": {
  "kernelspec": {
   "display_name": "Python 3",
   "language": "python",
   "name": "python3"
  },
  "language_info": {
   "codemirror_mode": {
    "name": "ipython",
    "version": 2
   },
   "file_extension": ".py",
   "mimetype": "text/x-python",
   "name": "python",
   "nbconvert_exporter": "python",
   "pygments_lexer": "ipython2",
   "version": "2.7.6"
  }
 },
 "nbformat": 4,
 "nbformat_minor": 5
}
