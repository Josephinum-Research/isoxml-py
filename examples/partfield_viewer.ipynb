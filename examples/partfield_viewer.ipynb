{
 "cells": [
  {
   "cell_type": "code",
   "execution_count": 4,
   "id": "initial_id",
   "metadata": {
    "collapsed": true,
    "ExecuteTime": {
     "end_time": "2024-09-30T10:40:40.427113Z",
     "start_time": "2024-09-30T10:40:40.382230Z"
    }
   },
   "outputs": [
    {
     "data": {
      "text/plain": "<folium.folium.Map at 0x7f55da41a720>",
      "text/html": "<div style=\"width:100%;\"><div style=\"position:relative;width:100%;height:0;padding-bottom:60%;\"><span style=\"color:#565656\">Make this Notebook Trusted to load map: File -> Trust Notebook</span><iframe srcdoc=\"&lt;!DOCTYPE html&gt;\n&lt;html&gt;\n&lt;head&gt;\n    \n    &lt;meta http-equiv=&quot;content-type&quot; content=&quot;text/html; charset=UTF-8&quot; /&gt;\n    \n        &lt;script&gt;\n            L_NO_TOUCH = false;\n            L_DISABLE_3D = false;\n        &lt;/script&gt;\n    \n    &lt;style&gt;html, body {width: 100%;height: 100%;margin: 0;padding: 0;}&lt;/style&gt;\n    &lt;style&gt;#map {position:absolute;top:0;bottom:0;right:0;left:0;}&lt;/style&gt;\n    &lt;script src=&quot;https://cdn.jsdelivr.net/npm/leaflet@1.9.3/dist/leaflet.js&quot;&gt;&lt;/script&gt;\n    &lt;script src=&quot;https://code.jquery.com/jquery-3.7.1.min.js&quot;&gt;&lt;/script&gt;\n    &lt;script src=&quot;https://cdn.jsdelivr.net/npm/bootstrap@5.2.2/dist/js/bootstrap.bundle.min.js&quot;&gt;&lt;/script&gt;\n    &lt;script src=&quot;https://cdnjs.cloudflare.com/ajax/libs/Leaflet.awesome-markers/2.0.2/leaflet.awesome-markers.js&quot;&gt;&lt;/script&gt;\n    &lt;link rel=&quot;stylesheet&quot; href=&quot;https://cdn.jsdelivr.net/npm/leaflet@1.9.3/dist/leaflet.css&quot;/&gt;\n    &lt;link rel=&quot;stylesheet&quot; href=&quot;https://cdn.jsdelivr.net/npm/bootstrap@5.2.2/dist/css/bootstrap.min.css&quot;/&gt;\n    &lt;link rel=&quot;stylesheet&quot; href=&quot;https://netdna.bootstrapcdn.com/bootstrap/3.0.0/css/bootstrap-glyphicons.css&quot;/&gt;\n    &lt;link rel=&quot;stylesheet&quot; href=&quot;https://cdn.jsdelivr.net/npm/@fortawesome/fontawesome-free@6.2.0/css/all.min.css&quot;/&gt;\n    &lt;link rel=&quot;stylesheet&quot; href=&quot;https://cdnjs.cloudflare.com/ajax/libs/Leaflet.awesome-markers/2.0.2/leaflet.awesome-markers.css&quot;/&gt;\n    &lt;link rel=&quot;stylesheet&quot; href=&quot;https://cdn.jsdelivr.net/gh/python-visualization/folium/folium/templates/leaflet.awesome.rotate.min.css&quot;/&gt;\n    \n            &lt;meta name=&quot;viewport&quot; content=&quot;width=device-width,\n                initial-scale=1.0, maximum-scale=1.0, user-scalable=no&quot; /&gt;\n            &lt;style&gt;\n                #map_9fc19a8694eb23450ed3225af2edd9c0 {\n                    position: relative;\n                    width: 100.0%;\n                    height: 100.0%;\n                    left: 0.0%;\n                    top: 0.0%;\n                }\n                .leaflet-container { font-size: 1rem; }\n            &lt;/style&gt;\n        \n    \n                    &lt;style&gt;\n                        .foliumtooltip {\n                            \n                        }\n                       .foliumtooltip table{\n                            margin: auto;\n                        }\n                        .foliumtooltip tr{\n                            text-align: left;\n                        }\n                        .foliumtooltip th{\n                            padding: 2px; padding-right: 8px;\n                        }\n                    &lt;/style&gt;\n            \n&lt;/head&gt;\n&lt;body&gt;\n    \n    \n            &lt;div class=&quot;folium-map&quot; id=&quot;map_9fc19a8694eb23450ed3225af2edd9c0&quot; &gt;&lt;/div&gt;\n        \n&lt;/body&gt;\n&lt;script&gt;\n    \n    \n            var map_9fc19a8694eb23450ed3225af2edd9c0 = L.map(\n                &quot;map_9fc19a8694eb23450ed3225af2edd9c0&quot;,\n                {\n                    center: [48.144301920000004, 15.142561616],\n                    crs: L.CRS.EPSG3857,\n                    zoom: 10,\n                    zoomControl: true,\n                    preferCanvas: false,\n                }\n            );\n            L.control.scale().addTo(map_9fc19a8694eb23450ed3225af2edd9c0);\n\n            \n\n        \n    \n            var tile_layer_7fed2759624ed98853fc1d62f79cd82a = L.tileLayer(\n                &quot;https://tile.openstreetmap.org/{z}/{x}/{y}.png&quot;,\n                {&quot;attribution&quot;: &quot;\\u0026copy; \\u003ca href=\\&quot;https://www.openstreetmap.org/copyright\\&quot;\\u003eOpenStreetMap\\u003c/a\\u003e contributors&quot;, &quot;detectRetina&quot;: false, &quot;maxNativeZoom&quot;: 19, &quot;maxZoom&quot;: 19, &quot;minZoom&quot;: 0, &quot;noWrap&quot;: false, &quot;opacity&quot;: 1, &quot;subdomains&quot;: &quot;abc&quot;, &quot;tms&quot;: false}\n            );\n        \n    \n            tile_layer_7fed2759624ed98853fc1d62f79cd82a.addTo(map_9fc19a8694eb23450ed3225af2edd9c0);\n        \n    \n            map_9fc19a8694eb23450ed3225af2edd9c0.fitBounds(\n                [[48.143323051, 15.141258145], [48.145280789, 15.143865087]],\n                {}\n            );\n        \n    \n        function geo_json_5c3a1e1a6315323e8fb0f65f2d7ffde8_styler(feature) {\n            switch(feature.id) {\n                default:\n                    return {&quot;fillOpacity&quot;: 0.5, &quot;weight&quot;: 2};\n            }\n        }\n        function geo_json_5c3a1e1a6315323e8fb0f65f2d7ffde8_highlighter(feature) {\n            switch(feature.id) {\n                default:\n                    return {&quot;fillOpacity&quot;: 0.75};\n            }\n        }\n        function geo_json_5c3a1e1a6315323e8fb0f65f2d7ffde8_pointToLayer(feature, latlng) {\n            var opts = {&quot;bubblingMouseEvents&quot;: true, &quot;color&quot;: &quot;#3388ff&quot;, &quot;dashArray&quot;: null, &quot;dashOffset&quot;: null, &quot;fill&quot;: true, &quot;fillColor&quot;: &quot;#3388ff&quot;, &quot;fillOpacity&quot;: 0.2, &quot;fillRule&quot;: &quot;evenodd&quot;, &quot;lineCap&quot;: &quot;round&quot;, &quot;lineJoin&quot;: &quot;round&quot;, &quot;opacity&quot;: 1.0, &quot;radius&quot;: 2, &quot;stroke&quot;: true, &quot;weight&quot;: 3};\n            \n            let style = geo_json_5c3a1e1a6315323e8fb0f65f2d7ffde8_styler(feature)\n            Object.assign(opts, style)\n            \n            return new L.CircleMarker(latlng, opts)\n        }\n\n        function geo_json_5c3a1e1a6315323e8fb0f65f2d7ffde8_onEachFeature(feature, layer) {\n            layer.on({\n                mouseout: function(e) {\n                    if(typeof e.target.setStyle === &quot;function&quot;){\n                            geo_json_5c3a1e1a6315323e8fb0f65f2d7ffde8.resetStyle(e.target);\n                    }\n                },\n                mouseover: function(e) {\n                    if(typeof e.target.setStyle === &quot;function&quot;){\n                        const highlightStyle = geo_json_5c3a1e1a6315323e8fb0f65f2d7ffde8_highlighter(e.target.feature)\n                        e.target.setStyle(highlightStyle);\n                    }\n                },\n            });\n        };\n        var geo_json_5c3a1e1a6315323e8fb0f65f2d7ffde8 = L.geoJson(null, {\n                onEachFeature: geo_json_5c3a1e1a6315323e8fb0f65f2d7ffde8_onEachFeature,\n            \n                style: geo_json_5c3a1e1a6315323e8fb0f65f2d7ffde8_styler,\n                pointToLayer: geo_json_5c3a1e1a6315323e8fb0f65f2d7ffde8_pointToLayer,\n        });\n\n        function geo_json_5c3a1e1a6315323e8fb0f65f2d7ffde8_add (data) {\n            geo_json_5c3a1e1a6315323e8fb0f65f2d7ffde8\n                .addData(data);\n        }\n            geo_json_5c3a1e1a6315323e8fb0f65f2d7ffde8_add({&quot;bbox&quot;: [15.141258145, 48.143323051, 15.143865087, 48.145280789], &quot;features&quot;: [{&quot;bbox&quot;: [15.141258145, 48.143323051, 15.143865087, 48.145280789], &quot;geometry&quot;: {&quot;coordinates&quot;: [[[15.143224019, 48.145220357], [15.143407214, 48.145126963], [15.143510133, 48.145033569], [15.143769488, 48.1449182], [15.143865087, 48.144840365], [15.141996976, 48.143323051], [15.14154635, 48.143574407], [15.141258145, 48.143889447], [15.143036707, 48.145280789], [15.143224019, 48.145220357]]], &quot;type&quot;: &quot;Polygon&quot;}, &quot;id&quot;: &quot;0&quot;, &quot;properties&quot;: {}, &quot;type&quot;: &quot;Feature&quot;}], &quot;type&quot;: &quot;FeatureCollection&quot;});\n\n        \n    \n    geo_json_5c3a1e1a6315323e8fb0f65f2d7ffde8.bindTooltip(\n    function(layer){\n    let div = L.DomUtil.create(&#x27;div&#x27;);\n    \n    return div\n    }\n    ,{&quot;className&quot;: &quot;foliumtooltip&quot;, &quot;sticky&quot;: true});\n                     \n    \n            geo_json_5c3a1e1a6315323e8fb0f65f2d7ffde8.addTo(map_9fc19a8694eb23450ed3225af2edd9c0);\n        \n&lt;/script&gt;\n&lt;/html&gt;\" style=\"position:absolute;width:100%;height:100%;left:0;top:0;border:none !important;\" allowfullscreen webkitallowfullscreen mozallowfullscreen></iframe></div></div>"
     },
     "execution_count": 4,
     "metadata": {},
     "output_type": "execute_result"
    }
   ],
   "source": [
    "import geopandas as gpd\n",
    "\n",
    "from isoxml.converter.shapely_geom import ShapelyConverter\n",
    "from isoxml.util.isoxml_io import isoxml_from_xml_file\n",
    "from tests.resources.test_resources import TEST_RES_DIR\n",
    "\n",
    "shp_converter = ShapelyConverter('v3')\n",
    "task_data, _ = isoxml_from_xml_file(TEST_RES_DIR / \"isoxml/v3/grid_type_2/TASKDATA.XML\")\n",
    "shp_polys = []\n",
    "for field in task_data.partfields:\n",
    "    for poly in field.polygons:\n",
    "        shp_polys.append(shp_converter.to_shapely_polygon(poly))\n",
    "\n",
    "field_gs = gpd.GeoSeries(data=shp_polys, crs=\"EPSG:4326\")\n",
    "field_gs.explore()"
   ]
  },
  {
   "cell_type": "code",
   "outputs": [],
   "source": [],
   "metadata": {
    "collapsed": false
   },
   "id": "8fa9d0589c7beab1"
  }
 ],
 "metadata": {
  "kernelspec": {
   "display_name": "Python 3",
   "language": "python",
   "name": "python3"
  },
  "language_info": {
   "codemirror_mode": {
    "name": "ipython",
    "version": 2
   },
   "file_extension": ".py",
   "mimetype": "text/x-python",
   "name": "python",
   "nbconvert_exporter": "python",
   "pygments_lexer": "ipython2",
   "version": "2.7.6"
  }
 },
 "nbformat": 4,
 "nbformat_minor": 5
}
